{
 "cells": [
  {
   "cell_type": "code",
   "execution_count": 1,
   "id": "d8babe8b-8d4c-4baa-afae-e537fc213395",
   "metadata": {},
   "outputs": [
    {
     "data": {
      "text/plain": [
       "25"
      ]
     },
     "execution_count": 1,
     "metadata": {},
     "output_type": "execute_result"
    }
   ],
   "source": [
    "5 * 5"
   ]
  },
  {
   "cell_type": "code",
   "execution_count": 2,
   "id": "0a459c57",
   "metadata": {},
   "outputs": [
    {
     "data": {
      "text/html": [
       "<div>\n",
       "<style scoped>\n",
       "    .dataframe tbody tr th:only-of-type {\n",
       "        vertical-align: middle;\n",
       "    }\n",
       "\n",
       "    .dataframe tbody tr th {\n",
       "        vertical-align: top;\n",
       "    }\n",
       "\n",
       "    .dataframe thead th {\n",
       "        text-align: right;\n",
       "    }\n",
       "</style>\n",
       "<table border=\"1\" class=\"dataframe\">\n",
       "  <thead>\n",
       "    <tr style=\"text-align: right;\">\n",
       "      <th></th>\n",
       "      <th>nombre_entidad</th>\n",
       "      <th>nit_entidad</th>\n",
       "      <th>departamento</th>\n",
       "      <th>ciudad</th>\n",
       "      <th>localizaci_n</th>\n",
       "      <th>orden</th>\n",
       "      <th>sector</th>\n",
       "      <th>rama</th>\n",
       "      <th>entidad_centralizada</th>\n",
       "      <th>proceso_de_compra</th>\n",
       "      <th>...</th>\n",
       "      <th>codigo_proveedor</th>\n",
       "      <th>objeto_del_contrato</th>\n",
       "      <th>duraci_n_del_contrato</th>\n",
       "      <th>nombre_del_banco</th>\n",
       "      <th>tipo_de_cuenta</th>\n",
       "      <th>n_mero_de_cuenta</th>\n",
       "      <th>el_contrato_puede_ser_prorrogado</th>\n",
       "      <th>ultima_actualizacion</th>\n",
       "      <th>fecha_inicio_liquidacion</th>\n",
       "      <th>fecha_fin_liquidacion</th>\n",
       "    </tr>\n",
       "  </thead>\n",
       "  <tbody>\n",
       "    <tr>\n",
       "      <th>0</th>\n",
       "      <td>AGN</td>\n",
       "      <td>800128835</td>\n",
       "      <td>Distrito Capital de Bogotá</td>\n",
       "      <td>No Definido</td>\n",
       "      <td>Colombia, Bogotá, No Definido</td>\n",
       "      <td>Nacional</td>\n",
       "      <td>Cultura</td>\n",
       "      <td>Ejecutivo</td>\n",
       "      <td>Centralizada</td>\n",
       "      <td>CO1.BDOS.851626</td>\n",
       "      <td>...</td>\n",
       "      <td>702072042</td>\n",
       "      <td>“Prestar el servicio de mantenimiento preventi...</td>\n",
       "      <td>No definido</td>\n",
       "      <td>BANCO DE BOGOTA</td>\n",
       "      <td>Corriente</td>\n",
       "      <td>083276097</td>\n",
       "      <td>No</td>\n",
       "      <td>NaN</td>\n",
       "      <td>NaN</td>\n",
       "      <td>NaN</td>\n",
       "    </tr>\n",
       "    <tr>\n",
       "      <th>1</th>\n",
       "      <td>AGN</td>\n",
       "      <td>800128835</td>\n",
       "      <td>Distrito Capital de Bogotá</td>\n",
       "      <td>No Definido</td>\n",
       "      <td>Colombia, Bogotá, No Definido</td>\n",
       "      <td>Nacional</td>\n",
       "      <td>Cultura</td>\n",
       "      <td>Ejecutivo</td>\n",
       "      <td>Centralizada</td>\n",
       "      <td>CO1.BDOS.812543</td>\n",
       "      <td>...</td>\n",
       "      <td>707136081</td>\n",
       "      <td>Contratar la Prestación de los servicios de vi...</td>\n",
       "      <td>Dia(s)</td>\n",
       "      <td>No definido</td>\n",
       "      <td>No Definido</td>\n",
       "      <td>No definido</td>\n",
       "      <td>Si</td>\n",
       "      <td>2023-09-18T00:00:00.000</td>\n",
       "      <td>2024-01-15T00:00:00.000</td>\n",
       "      <td>2024-03-15T00:00:00.000</td>\n",
       "    </tr>\n",
       "    <tr>\n",
       "      <th>2</th>\n",
       "      <td>AGN</td>\n",
       "      <td>800128835</td>\n",
       "      <td>Distrito Capital de Bogotá</td>\n",
       "      <td>No Definido</td>\n",
       "      <td>Colombia, Bogotá, No Definido</td>\n",
       "      <td>Nacional</td>\n",
       "      <td>Cultura</td>\n",
       "      <td>Ejecutivo</td>\n",
       "      <td>Centralizada</td>\n",
       "      <td>CO1.BDOS.859318</td>\n",
       "      <td>...</td>\n",
       "      <td>701922122</td>\n",
       "      <td>Suministrar conjuntos de tela antifluido y del...</td>\n",
       "      <td>No definido</td>\n",
       "      <td>BANCO CAJA SOCIAL</td>\n",
       "      <td>Ahorros</td>\n",
       "      <td>24052732777</td>\n",
       "      <td>No</td>\n",
       "      <td>NaN</td>\n",
       "      <td>NaN</td>\n",
       "      <td>NaN</td>\n",
       "    </tr>\n",
       "  </tbody>\n",
       "</table>\n",
       "<p>3 rows × 72 columns</p>\n",
       "</div>"
      ],
      "text/plain": [
       "  nombre_entidad nit_entidad                departamento       ciudad  \\\n",
       "0            AGN   800128835  Distrito Capital de Bogotá  No Definido   \n",
       "1            AGN   800128835  Distrito Capital de Bogotá  No Definido   \n",
       "2            AGN   800128835  Distrito Capital de Bogotá  No Definido   \n",
       "\n",
       "                    localizaci_n     orden   sector       rama  \\\n",
       "0  Colombia, Bogotá, No Definido  Nacional  Cultura  Ejecutivo   \n",
       "1  Colombia, Bogotá, No Definido  Nacional  Cultura  Ejecutivo   \n",
       "2  Colombia, Bogotá, No Definido  Nacional  Cultura  Ejecutivo   \n",
       "\n",
       "  entidad_centralizada proceso_de_compra  ... codigo_proveedor  \\\n",
       "0         Centralizada   CO1.BDOS.851626  ...        702072042   \n",
       "1         Centralizada   CO1.BDOS.812543  ...        707136081   \n",
       "2         Centralizada   CO1.BDOS.859318  ...        701922122   \n",
       "\n",
       "                                 objeto_del_contrato duraci_n_del_contrato  \\\n",
       "0  “Prestar el servicio de mantenimiento preventi...           No definido   \n",
       "1  Contratar la Prestación de los servicios de vi...                Dia(s)   \n",
       "2  Suministrar conjuntos de tela antifluido y del...           No definido   \n",
       "\n",
       "    nombre_del_banco tipo_de_cuenta n_mero_de_cuenta  \\\n",
       "0    BANCO DE BOGOTA      Corriente        083276097   \n",
       "1        No definido    No Definido      No definido   \n",
       "2  BANCO CAJA SOCIAL        Ahorros      24052732777   \n",
       "\n",
       "  el_contrato_puede_ser_prorrogado     ultima_actualizacion  \\\n",
       "0                               No                      NaN   \n",
       "1                               Si  2023-09-18T00:00:00.000   \n",
       "2                               No                      NaN   \n",
       "\n",
       "  fecha_inicio_liquidacion    fecha_fin_liquidacion  \n",
       "0                      NaN                      NaN  \n",
       "1  2024-01-15T00:00:00.000  2024-03-15T00:00:00.000  \n",
       "2                      NaN                      NaN  \n",
       "\n",
       "[3 rows x 72 columns]"
      ]
     },
     "execution_count": 2,
     "metadata": {},
     "output_type": "execute_result"
    }
   ],
   "source": [
    "import pandas as pd\n",
    "from sodapy import Socrata\n",
    "\n",
    "client = Socrata(\"www.datos.gov.co\", \"WX0Rn1ZeZiR2b3ERtoNYVJRhW\", timeout = 10)\n",
    "\n",
    "consulta = \"\"\" SELECT *\n",
    "WHERE nombre_entidad = 'AGN'\n",
    "AND departamento = 'Distrito Capital de Bogotá'\n",
    "LIMIT 3\n",
    "\"\"\"\n",
    "\n",
    "results = client.get(\"jbjy-vk9h\", query = consulta)\n",
    "results_df = pd.DataFrame.from_records(results)\n",
    "results_df.head()"
   ]
  },
  {
   "cell_type": "markdown",
   "id": "e097b016",
   "metadata": {},
   "source": [
    "## Exploracion inicial\n",
    "en este notebook. lkfjldfjl \n"
   ]
  },
  {
   "cell_type": "code",
   "execution_count": 8,
   "id": "84daa48a",
   "metadata": {},
   "outputs": [
    {
     "data": {
      "text/plain": [
       "departamento\n",
       "Distrito Capital de Bogotá    3\n",
       "Name: count, dtype: int64"
      ]
     },
     "execution_count": 8,
     "metadata": {},
     "output_type": "execute_result"
    }
   ],
   "source": [
    "results_df['departamento'].value_counts()\n"
   ]
  },
  {
   "cell_type": "code",
   "execution_count": 5,
   "id": "4621eafe",
   "metadata": {},
   "outputs": [
    {
     "data": {
      "text/plain": [
       "departamento\n",
       "Distrito Capital de Bogotá    20355684736226805643500\n",
       "Name: valor_del_contrato, dtype: object"
      ]
     },
     "execution_count": 5,
     "metadata": {},
     "output_type": "execute_result"
    }
   ],
   "source": [
    "results_df.groupby('departamento')['valor_del_contrato'].sum()\n"
   ]
  },
  {
   "cell_type": "code",
   "execution_count": null,
   "id": "ef994ecd",
   "metadata": {},
   "outputs": [],
   "source": []
  }
 ],
 "metadata": {
  "kernelspec": {
   "display_name": "Python 3 (ipykernel)",
   "language": "python",
   "name": "python3"
  },
  "language_info": {
   "codemirror_mode": {
    "name": "ipython",
    "version": 3
   },
   "file_extension": ".py",
   "mimetype": "text/x-python",
   "name": "python",
   "nbconvert_exporter": "python",
   "pygments_lexer": "ipython3",
   "version": "3.12.4"
  }
 },
 "nbformat": 4,
 "nbformat_minor": 5
}
